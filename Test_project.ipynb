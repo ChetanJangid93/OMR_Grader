{
 "cells": [
  {
   "cell_type": "code",
   "execution_count": 1,
   "id": "2f01ad58",
   "metadata": {},
   "outputs": [],
   "source": [
    "from imutils.perspective import four_point_transform"
   ]
  },
  {
   "cell_type": "code",
   "execution_count": 2,
   "id": "99b1b206",
   "metadata": {},
   "outputs": [],
   "source": [
    "from imutils import contours"
   ]
  },
  {
   "cell_type": "code",
   "execution_count": 3,
   "id": "08041039",
   "metadata": {},
   "outputs": [],
   "source": [
    "import numpy as np"
   ]
  },
  {
   "cell_type": "code",
   "execution_count": 4,
   "id": "29f6ba36",
   "metadata": {},
   "outputs": [],
   "source": [
    "import argparse"
   ]
  },
  {
   "cell_type": "code",
   "execution_count": 5,
   "id": "ba3e9eaa",
   "metadata": {},
   "outputs": [],
   "source": [
    "import imutils"
   ]
  },
  {
   "cell_type": "code",
   "execution_count": 6,
   "id": "4ec03033",
   "metadata": {},
   "outputs": [],
   "source": [
    "import cv2"
   ]
  },
  {
   "cell_type": "code",
   "execution_count": 7,
   "id": "5c83730b",
   "metadata": {},
   "outputs": [],
   "source": [
    "ANSWER_KEY= {0: 1,1: 4,2: 0,3: 3,4: 1}"
   ]
  },
  {
   "cell_type": "code",
   "execution_count": 8,
   "id": "b5055987",
   "metadata": {},
   "outputs": [],
   "source": [
    "image = cv2.imread(\"omr.png\")"
   ]
  },
  {
   "cell_type": "markdown",
   "id": "0f5494e3",
   "metadata": {},
   "source": [
    "**code to show image**"
   ]
  },
  {
   "cell_type": "code",
   "execution_count": 9,
   "id": "01988d6d",
   "metadata": {},
   "outputs": [],
   "source": [
    "cv2.imshow('Original',image)\n",
    "cv2.waitKey(0)\n",
    "cv2.destroyAllWindows()"
   ]
  },
  {
   "cell_type": "code",
   "execution_count": 10,
   "id": "b7393470",
   "metadata": {},
   "outputs": [],
   "source": [
    "gray = cv2.cvtColor(image,cv2.COLOR_BGR2GRAY)"
   ]
  },
  {
   "cell_type": "markdown",
   "id": "47943374",
   "metadata": {},
   "source": [
    "**code to see gray scale image**"
   ]
  },
  {
   "cell_type": "code",
   "execution_count": 11,
   "id": "5f215d67",
   "metadata": {},
   "outputs": [],
   "source": [
    "cv2.imshow('Grayscale',gray)\n",
    "cv2.waitKey(0)\n",
    "cv2.destroyAllWindows()"
   ]
  },
  {
   "cell_type": "code",
   "execution_count": 12,
   "id": "06cbc77e",
   "metadata": {},
   "outputs": [],
   "source": [
    "blurred = cv2.GaussianBlur(gray,(5,5),0)"
   ]
  },
  {
   "cell_type": "code",
   "execution_count": 13,
   "id": "742a6959",
   "metadata": {},
   "outputs": [],
   "source": [
    "edged = cv2.Canny(blurred,75,200)"
   ]
  },
  {
   "cell_type": "markdown",
   "id": "3a7b64ac",
   "metadata": {},
   "source": [
    "**code to see edges in image**"
   ]
  },
  {
   "cell_type": "code",
   "execution_count": 14,
   "id": "e7f8e4b5",
   "metadata": {},
   "outputs": [],
   "source": [
    "cv2.imshow('Canny Edge Detection',edged)\n",
    "cv2.waitKey(0)\n",
    "cv2.destroyAllWindows()"
   ]
  },
  {
   "cell_type": "code",
   "execution_count": 15,
   "id": "e8ee5ba4",
   "metadata": {},
   "outputs": [],
   "source": [
    "cnts = cv2.findContours(edged.copy(),cv2.RETR_EXTERNAL,cv2.CHAIN_APPROX_SIMPLE)\n",
    "cnts = imutils.grab_contours(cnts)\n",
    "docCnt = None"
   ]
  },
  {
   "cell_type": "code",
   "execution_count": 16,
   "id": "c4d71562",
   "metadata": {},
   "outputs": [],
   "source": [
    "if len(cnts)>0:\n",
    "    cnts = sorted(cnts,key=cv2.contourArea,reverse=True)\n",
    "    for c in cnts:\n",
    "        peri = cv2.arcLength(c,True)\n",
    "        approx=cv2.approxPolyDP(c,0.02*peri,True)\n",
    "        if len(approx) == 4:\n",
    "            docCnt=approx\n",
    "            break"
   ]
  },
  {
   "cell_type": "markdown",
   "id": "9e831cf3",
   "metadata": {},
   "source": [
    "**code to see drawn contour on image**"
   ]
  },
  {
   "cell_type": "code",
   "execution_count": 17,
   "id": "b2d40ea6",
   "metadata": {},
   "outputs": [],
   "source": [
    "cv2.drawContours(image,docCnt,-1,(0,255,0),3)\n",
    "cv2.imshow('docCnt',image)\n",
    "cv2.waitKey(0)\n",
    "cv2.destroyAllWindows()"
   ]
  },
  {
   "cell_type": "code",
   "execution_count": 18,
   "id": "51676811",
   "metadata": {},
   "outputs": [],
   "source": [
    "paper = four_point_transform(image,docCnt.reshape(4,2))"
   ]
  },
  {
   "cell_type": "code",
   "execution_count": 19,
   "id": "29323328",
   "metadata": {},
   "outputs": [],
   "source": [
    "warped= four_point_transform(gray,docCnt.reshape(4,2))"
   ]
  },
  {
   "cell_type": "markdown",
   "id": "0ab3a5c5",
   "metadata": {},
   "source": [
    "**code to see paper and warped images**"
   ]
  },
  {
   "cell_type": "code",
   "execution_count": 20,
   "id": "765c602a",
   "metadata": {},
   "outputs": [],
   "source": [
    "cv2.imshow('birds-eye',paper)\n",
    "cv2.waitKey(0)\n",
    "cv2.destroyAllWindows()"
   ]
  },
  {
   "cell_type": "code",
   "execution_count": 21,
   "id": "7b511b67",
   "metadata": {},
   "outputs": [],
   "source": [
    "cv2.imshow('birds-eye',warped)\n",
    "cv2.waitKey(0)\n",
    "cv2.destroyAllWindows()"
   ]
  },
  {
   "cell_type": "code",
   "execution_count": 22,
   "id": "71297ac7",
   "metadata": {},
   "outputs": [],
   "source": [
    "(T,threshInv)=cv2.threshold(warped,0,255,cv2.THRESH_BINARY_INV|cv2.THRESH_OTSU)"
   ]
  },
  {
   "cell_type": "markdown",
   "id": "f5e9ca1b",
   "metadata": {},
   "source": [
    "**code to see thresholded image**"
   ]
  },
  {
   "cell_type": "code",
   "execution_count": 23,
   "id": "6c2a27fa",
   "metadata": {},
   "outputs": [],
   "source": [
    "cv2.imshow(\"Otsu's thresholding\",threshInv)\n",
    "cv2.waitKey(0)\n",
    "cv2.destroyAllWindows()"
   ]
  },
  {
   "cell_type": "code",
   "execution_count": 24,
   "id": "4cb74ab6",
   "metadata": {},
   "outputs": [],
   "source": [
    "cnts = cv2.findContours(threshInv.copy(),cv2.RETR_EXTERNAL,cv2.CHAIN_APPROX_SIMPLE)\n",
    "cnts = imutils.grab_contours(cnts)\n",
    "questionCnts = []"
   ]
  },
  {
   "cell_type": "code",
   "execution_count": 25,
   "id": "1b5fe847",
   "metadata": {},
   "outputs": [],
   "source": [
    "for c in cnts:\n",
    "    (x,y,w,h) = cv2.boundingRect(c)\n",
    "    ar = w / float(h)\n",
    "    if w>=20 and h>=20 and ar>=0.9 and ar<=1.1:\n",
    "        questionCnts.append(c)"
   ]
  },
  {
   "cell_type": "markdown",
   "id": "ce4861cc",
   "metadata": {},
   "source": [
    "**code to print all question bubbles in paper**"
   ]
  },
  {
   "cell_type": "code",
   "execution_count": 26,
   "id": "721f3d2a",
   "metadata": {},
   "outputs": [],
   "source": [
    "cv2.drawContours(paper,questionCnts,-1,(0,255,0),3)\n",
    "cv2.imshow('Questions',paper)\n",
    "cv2.waitKey(0)\n",
    "cv2.destroyAllWindows()"
   ]
  },
  {
   "cell_type": "code",
   "execution_count": 27,
   "id": "548b9a16",
   "metadata": {},
   "outputs": [
    {
     "data": {
      "text/plain": [
       "25"
      ]
     },
     "execution_count": 27,
     "metadata": {},
     "output_type": "execute_result"
    }
   ],
   "source": [
    "len(questionCnts)"
   ]
  },
  {
   "cell_type": "code",
   "execution_count": 28,
   "id": "32ef3880",
   "metadata": {},
   "outputs": [],
   "source": [
    "area=cv2.contourArea(cnts[50])"
   ]
  },
  {
   "cell_type": "code",
   "execution_count": 29,
   "id": "71891216",
   "metadata": {},
   "outputs": [
    {
     "data": {
      "text/plain": [
       "905.0"
      ]
     },
     "execution_count": 29,
     "metadata": {},
     "output_type": "execute_result"
    }
   ],
   "source": [
    "area"
   ]
  },
  {
   "cell_type": "code",
   "execution_count": 30,
   "id": "0a8e3a38",
   "metadata": {},
   "outputs": [],
   "source": [
    "questionCnts = contours.sort_contours(questionCnts,method=\"top-to-bottom\")[0]"
   ]
  },
  {
   "cell_type": "code",
   "execution_count": 31,
   "id": "03e11087",
   "metadata": {},
   "outputs": [],
   "source": [
    "correct =0"
   ]
  },
  {
   "cell_type": "code",
   "execution_count": 32,
   "id": "05296d65",
   "metadata": {},
   "outputs": [],
   "source": [
    "for (q,i) in enumerate(np.arange(0,len(questionCnts),5)):\n",
    "    cnts=contours.sort_contours(questionCnts[i: i+5])[0]\n",
    "    bubbled=None\n",
    "    for(j,c) in enumerate(cnts):\n",
    "        mask=np.zeros(threshInv.shape,dtype=\"uint8\")\n",
    "        cv2.drawContours(mask,[c],-1,255,-1)\n",
    "        \n",
    "        mask=cv2.bitwise_and(threshInv,threshInv,mask=mask)\n",
    "        total=cv2.countNonZero(mask)\n",
    "        if bubbled is None or total>bubbled[0]:\n",
    "            bubbled=(total,j)\n",
    "            \n",
    "    color=(0,0,255)\n",
    "    k=ANSWER_KEY[q]\n",
    "    \n",
    "    if k==bubbled[1]:\n",
    "        color=(0,255,0)\n",
    "        correct+=1\n",
    "        \n",
    "    cv2.drawContours(paper,[cnts[k]],-1,color,3)"
   ]
  },
  {
   "cell_type": "code",
   "execution_count": 35,
   "id": "e215a07b",
   "metadata": {},
   "outputs": [
    {
     "name": "stdout",
     "output_type": "stream",
     "text": [
      "[INFO] score: 100.00%\n"
     ]
    },
    {
     "data": {
      "text/plain": [
       "-1"
      ]
     },
     "execution_count": 35,
     "metadata": {},
     "output_type": "execute_result"
    }
   ],
   "source": [
    "score = (correct / 5.0) * 100\n",
    "print(\"[INFO] score: {:.2f}%\".format(score))\n",
    "cv2.putText(paper, \"{:.2f}%\".format(score), (10, 30),\n",
    "    cv2.FONT_HERSHEY_SIMPLEX, 0.9, (0, 0, 255), 2)\n",
    "cv2.imshow(\"Original\", image)\n",
    "cv2.imshow(\"Exam\", paper)\n",
    "cv2.waitKey(0)"
   ]
  }
 ],
 "metadata": {
  "kernelspec": {
   "display_name": "Python 3 (ipykernel)",
   "language": "python",
   "name": "python3"
  },
  "language_info": {
   "codemirror_mode": {
    "name": "ipython",
    "version": 3
   },
   "file_extension": ".py",
   "mimetype": "text/x-python",
   "name": "python",
   "nbconvert_exporter": "python",
   "pygments_lexer": "ipython3",
   "version": "3.11.3"
  }
 },
 "nbformat": 4,
 "nbformat_minor": 5
}
