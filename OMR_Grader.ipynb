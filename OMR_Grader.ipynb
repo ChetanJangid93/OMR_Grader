{
 "cells": [
  {
   "cell_type": "code",
   "execution_count": null,
   "id": "f3d00336",
   "metadata": {},
   "outputs": [],
   "source": [
    "from imutils.perspective import four_point_transform\n",
    "from imutils import contours\n",
    "import numpy as np\n",
    "import argparse\n",
    "import imutils\n",
    "import cv2"
   ]
  },
  {
   "cell_type": "code",
   "execution_count": null,
   "id": "ece43d2f",
   "metadata": {},
   "outputs": [],
   "source": [
    "ANSWER_KEY= {0: 1,1: 4,2: 0,3: 3,4: 1}"
   ]
  },
  {
   "cell_type": "code",
   "execution_count": null,
   "id": "ef99fd2d",
   "metadata": {},
   "outputs": [],
   "source": [
    "image = cv2.imread(\"test_05.png\")\n",
    "gray = cv2.cvtColor(image,cv2.COLOR_BGR2GRAY)\n",
    "blurred = cv2.GaussianBlur(gray,(5,5),0)\n",
    "edged = cv2.Canny(blurred,75,200)"
   ]
  },
  {
   "cell_type": "code",
   "execution_count": null,
   "id": "afcedd29",
   "metadata": {},
   "outputs": [],
   "source": [
    "cnts = cv2.findContours(edged.copy(),cv2.RETR_EXTERNAL,cv2.CHAIN_APPROX_SIMPLE)\n",
    "cnts = imutils.grab_contours(cnts)\n",
    "docCnt = None"
   ]
  },
  {
   "cell_type": "code",
   "execution_count": null,
   "id": "6df54ecc",
   "metadata": {},
   "outputs": [],
   "source": [
    "if len(cnts)>0:\n",
    "    cnts = sorted(cnts,key=cv2.contourArea,reverse=True)\n",
    "    for c in cnts:\n",
    "        peri = cv2.arcLength(c,True)\n",
    "        approx=cv2.approxPolyDP(c,0.02*peri,True)\n",
    "        if len(approx) == 4:\n",
    "            docCnt=approx\n",
    "            break"
   ]
  },
  {
   "cell_type": "code",
   "execution_count": null,
   "id": "a2bbed2a",
   "metadata": {},
   "outputs": [],
   "source": [
    "paper = four_point_transform(image,docCnt.reshape(4,2))\n",
    "warped= four_point_transform(gray,docCnt.reshape(4,2))"
   ]
  },
  {
   "cell_type": "code",
   "execution_count": null,
   "id": "58222d63",
   "metadata": {},
   "outputs": [],
   "source": [
    "(T,threshInv)=cv2.threshold(warped,0,255,cv2.THRESH_BINARY_INV|cv2.THRESH_OTSU)"
   ]
  },
  {
   "cell_type": "code",
   "execution_count": null,
   "id": "7a744d44",
   "metadata": {},
   "outputs": [],
   "source": [
    "cv2.imshow(\"Otsu's thresholding\",threshInv)\n",
    "cv2.waitKey(0)\n",
    "cv2.destroyAllWindows()"
   ]
  },
  {
   "cell_type": "code",
   "execution_count": null,
   "id": "4a250e33",
   "metadata": {},
   "outputs": [],
   "source": [
    "cnts = cv2.findContours(threshInv.copy(),cv2.RETR_EXTERNAL,cv2.CHAIN_APPROX_SIMPLE)\n",
    "cnts = imutils.grab_contours(cnts)\n",
    "questionCnts = []"
   ]
  },
  {
   "cell_type": "code",
   "execution_count": null,
   "id": "89665710",
   "metadata": {},
   "outputs": [],
   "source": [
    "for c in cnts:\n",
    "    (x,y,w,h) = cv2.boundingRect(c)\n",
    "    ar = w / float(h)\n",
    "    if w>=20 and h>=20 and ar>=0.9 and ar<=1.1:\n",
    "        questionCnts.append(c)"
   ]
  },
  {
   "cell_type": "code",
   "execution_count": null,
   "id": "045dbbcf",
   "metadata": {},
   "outputs": [],
   "source": [
    "questionCnts = contours.sort_contours(questionCnts,method=\"top-to-bottom\")[0]"
   ]
  },
  {
   "cell_type": "code",
   "execution_count": null,
   "id": "75fbd49c",
   "metadata": {},
   "outputs": [],
   "source": [
    "correct=0"
   ]
  },
  {
   "cell_type": "code",
   "execution_count": null,
   "id": "58d9b7f2",
   "metadata": {},
   "outputs": [],
   "source": [
    "for (q,i) in enumerate(np.arange(0,len(questionCnts),5)):\n",
    "    cnts=contours.sort_contours(questionCnts[i: i+5])[0]\n",
    "    bubbled=None\n",
    "    for(j,c) in enumerate(cnts):\n",
    "        mask=np.zeros(threshInv.shape,dtype=\"uint8\")\n",
    "        cv2.drawContours(mask,[c],-1,255,-1)\n",
    "        \n",
    "        mask=cv2.bitwise_and(threshInv,threshInv,mask=mask)\n",
    "        total=cv2.countNonZero(mask)\n",
    "        if bubbled is None or total>bubbled[0]:\n",
    "            bubbled=(total,j)\n",
    "            \n",
    "    color=(0,0,255)\n",
    "    k=ANSWER_KEY[q]\n",
    "    \n",
    "    if k==bubbled[1]:\n",
    "        color=(0,255,0)\n",
    "        correct+=1\n",
    "        \n",
    "    cv2.drawContours(paper,[cnts[k]],-1,color,3)"
   ]
  },
  {
   "cell_type": "code",
   "execution_count": null,
   "id": "4379c9d9",
   "metadata": {},
   "outputs": [],
   "source": [
    "score = (correct / 5.0) * 100\n",
    "print(\"[INFO] score: {:.2f}%\".format(score))\n",
    "cv2.putText(paper, \"{:.2f}%\".format(score), (10, 30),\n",
    "    cv2.FONT_HERSHEY_SIMPLEX, 0.9, (0, 0, 255), 2)\n",
    "cv2.imshow(\"Original\", image)\n",
    "cv2.imshow(\"Exam\", paper)\n",
    "cv2.waitKey(0)"
   ]
  },
  {
   "cell_type": "code",
   "execution_count": null,
   "id": "cf164729",
   "metadata": {},
   "outputs": [],
   "source": []
  }
 ],
 "metadata": {
  "kernelspec": {
   "display_name": "Python 3 (ipykernel)",
   "language": "python",
   "name": "python3"
  },
  "language_info": {
   "codemirror_mode": {
    "name": "ipython",
    "version": 3
   },
   "file_extension": ".py",
   "mimetype": "text/x-python",
   "name": "python",
   "nbconvert_exporter": "python",
   "pygments_lexer": "ipython3",
   "version": "3.11.3"
  }
 },
 "nbformat": 4,
 "nbformat_minor": 5
}
